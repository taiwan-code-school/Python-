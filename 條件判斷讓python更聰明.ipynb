{
 "cells": [
  {
   "cell_type": "markdown",
   "metadata": {},
   "source": [
    "條件判斷基礎\n",
    "\n",
    "來源：Taiwan Code School 編輯：Louis 時間：2018/09/03 版本：Python3\n",
    "\n",
    "\n",
    "條件判斷是讓python變得更聰明的方法。\n",
    "\n",
    "如果我們有一個明確的條件(如果怎麼樣，就做什麼事）\n",
    "\n",
    "這樣子，就可以使用if判斷式。\n",
    "\n",
    "例如：白馬王子說：如果我面前的這位姑娘是「真的」灰姑娘，我就娶她進門!\n",
    "\n",
    "程式碼是長這樣的："
   ]
  },
  {
   "cell_type": "code",
   "execution_count": 1,
   "metadata": {},
   "outputs": [
    {
     "name": "stdout",
     "output_type": "stream",
     "text": [
      "娶她!\n",
      "程式結束\n"
     ]
    }
   ],
   "source": [
    "Cinderella = True\n",
    "\n",
    "if Cinderella is True:\n",
    "    print('娶她!')\n",
    "    \n",
    "print('程式結束')\n",
    "    "
   ]
  },
  {
   "cell_type": "markdown",
   "metadata": {},
   "source": [
    "要注意python的寫法，在if 後面寫上「條件」之後，要加上一個:(冒號)才能到下一行，\n",
    "\n",
    "下一行時，利用縮排(4個空格)，來區分程式碼的區塊。(代表是在if:區塊裡面)\n"
   ]
  },
  {
   "cell_type": "code",
   "execution_count": 2,
   "metadata": {},
   "outputs": [
    {
     "name": "stdout",
     "output_type": "stream",
     "text": [
      "程式結束\n"
     ]
    }
   ],
   "source": [
    "Cinderella = False\n",
    "\n",
    "if Cinderella is True:\n",
    "    print('娶她!')\n",
    "    \n",
    "print('程式結束')"
   ]
  },
  {
   "cell_type": "markdown",
   "metadata": {},
   "source": [
    "把Cinderella改成假的之後，「if Cinderealla is True:」(辛杜瑞拉是True嗎？)這個問題的答案是否定的(False)。\n",
    "\n",
    "所以，程式沒有print出\"娶她\"，而是跳出if區塊，直接執行下一行，也就是print出\"程式結束\"。"
   ]
  },
  {
   "cell_type": "code",
   "execution_count": 3,
   "metadata": {},
   "outputs": [
    {
     "name": "stdout",
     "output_type": "stream",
     "text": [
      "請她回家\n",
      "程式結束\n"
     ]
    }
   ],
   "source": [
    "Cinderella = False\n",
    "\n",
    "if Cinderella is True:\n",
    "    print('娶她!')\n",
    "else:\n",
    "    print('請她回家')\n",
    "    \n",
    "print('程式結束')"
   ]
  },
  {
   "cell_type": "markdown",
   "metadata": {},
   "source": [
    "在這邊，我們加上else (否則) 的用法。\n",
    "\n",
    "else要搭配if來使用，當if的條件不是真相(False)的時候，就會直接跳去執行else:的內容。\n",
    "\n",
    "記得else也要加上冒號和縮排(空4格)，來區分程式碼區塊。"
   ]
  },
  {
   "cell_type": "code",
   "execution_count": 4,
   "metadata": {},
   "outputs": [
    {
     "name": "stdout",
     "output_type": "stream",
     "text": [
      "良\n"
     ]
    }
   ],
   "source": [
    "score = 60\n",
    "\n",
    "if score == 100:\n",
    "    print('特優')\n",
    "elif score >= 90:\n",
    "    print('優')\n",
    "elif score >= 80:\n",
    "    print('佳')\n",
    "elif score >= 70:\n",
    "    print('好')\n",
    "elif score >= 60:\n",
    "    print('良')\n",
    "else:\n",
    "    print('劣')"
   ]
  },
  {
   "cell_type": "markdown",
   "metadata": {},
   "source": [
    "如果有很多個條件設定，就可以用elif (就是else if的縮寫)。\n",
    "\n",
    "在if、elif 判斷式的最後面，也可以加上else的區塊，\n",
    "\n",
    "當上面全部的if 和 elif的條件都不成立(False)的時候，就會去執行else裡的內容。"
   ]
  },
  {
   "cell_type": "markdown",
   "metadata": {},
   "source": [
    "## 小技巧\n",
    "\n",
    "在if後面的「條件」，可以想像成是一個問題，\n",
    "\n",
    "如果這個問題的答案是肯定的(True)，就會執行 if: 縮排的程式碼區塊。\n",
    "\n",
    "如果這個問題的答案是否定的(False)，就不執行 if: 縮排的程式碼。"
   ]
  }
 ],
 "metadata": {
  "kernelspec": {
   "display_name": "Python 3",
   "language": "python",
   "name": "python3"
  },
  "language_info": {
   "codemirror_mode": {
    "name": "ipython",
    "version": 3
   },
   "file_extension": ".py",
   "mimetype": "text/x-python",
   "name": "python",
   "nbconvert_exporter": "python",
   "pygments_lexer": "ipython3",
   "version": "3.6.1"
  }
 },
 "nbformat": 4,
 "nbformat_minor": 2
}
