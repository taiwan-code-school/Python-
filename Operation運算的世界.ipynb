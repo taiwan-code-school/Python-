{
 "cells": [
  {
   "cell_type": "markdown",
   "metadata": {},
   "source": [
    "Operation 運算的世界\n",
    "\n",
    "來源：Taiwan Code School 編輯：冠樺 時間：2018/09/02 版本：Python3\n",
    "\n",
    "## 第一部分：算數的運算\n",
    "\n",
    "python就像一台計算機，你想的到的運算方式，都可以請它試試看哦！\n",
    "\n",
    "運算符號的家族有：加、減、乘、除、次方、取整數、取餘數。\n",
    "\n",
    "在電腦的鍵盤上面，\n",
    "* 用 _+_ 號代表「加法」\n",
    "* 用 _-  _ 號代表「減法」\n",
    "* 用 _*_ 號代表「乘法」\n",
    "* 用 _/_ 右至左斜線 代表「除法」\n",
    "* 用 _**_ 兩個星號代表「次方」\n",
    "* 用 _%_ 百分比符號 代表「取出除法中的餘數部分」\n",
    "* 用 _//_ 兩個斜線 代表「取出除法中的整數部分」\n",
    "\n",
    "接下來，就讓我們來欣賞Python的表演吧！"
   ]
  },
  {
   "cell_type": "code",
   "execution_count": 1,
   "metadata": {},
   "outputs": [
    {
     "name": "stdout",
     "output_type": "stream",
     "text": [
      "a + b =  12\n",
      "a - b =  8\n",
      "a * b =  20\n",
      "a / b =  5.0\n",
      "a ** b =  100\n",
      "a % b =  0\n",
      "a // b =  5\n"
     ]
    }
   ],
   "source": [
    "a = 10\n",
    "b = 2\n",
    "\n",
    "c = a + b\n",
    "print('a + b = ', c )\n",
    "\n",
    "c = a - b\n",
    "print('a - b = ', c )\n",
    "\n",
    "c = a * b\n",
    "print('a * b = ', c )\n",
    "\n",
    "c = a / b\n",
    "print('a / b = ', c )\n",
    "\n",
    "c = a ** b\n",
    "print('a ** b = ', c )\n",
    "\n",
    "c = a % b\n",
    "print('a % b = ', c )\n",
    "\n",
    "c = a // b\n",
    "print('a // b = ', c )\n"
   ]
  },
  {
   "cell_type": "markdown",
   "metadata": {},
   "source": [
    "很厲害吧！\n",
    "\n",
    "在這裡，比較需要注意到的是，運算除法之後的結果，Python都會自動自發的變成浮點數(float型態)(有小數點的數字)，所以a/b時的輸出是5.0而不是5。"
   ]
  },
  {
   "cell_type": "code",
   "execution_count": 2,
   "metadata": {},
   "outputs": [],
   "source": [
    "answer = 1 + 2 ** 3 / 4 % 5"
   ]
  },
  {
   "cell_type": "markdown",
   "metadata": {},
   "source": [
    "考考你！上面這個運算式，python會先從哪裡開始算呢？"
   ]
  },
  {
   "cell_type": "markdown",
   "metadata": {},
   "source": [
    "\n",
    "### 長幼有序\n",
    "\n",
    "在運算的世界中，是有先後順序的。因為有些運算符號的 地位 比較大，Python會先計算它。\n",
    "\n",
    "還記得數學課老師常說的「先乘除後加減」嗎?\n",
    "\n",
    "沒錯。但是更精確的順序是：\n",
    "1. 由左至右\n",
    "2. 括號優先\n",
    "3. 次方\n",
    "4. 乘除、除法取整數、除法取餘數\n",
    "5. 加減\n",
    "\n",
    "\n",
    "#### 根據剛才的小題目，來看看計算的順序吧！\n",
    "\n",
    "1 + 2 _**_ 3 / 4 % 5  _→由左至右，次方要先，所以先算 2 ** 3 = 8。_\n",
    "\n",
    "1 + 8 / 4 % 5  _→ 由左至右，再來是乘除，8 / 4 = 2。_ \n",
    "\n",
    "1 + 2 % 5 _→ 2 除以 5 取餘數 = 2 _\n",
    "\n",
    "1 + 2 _→最後加減 1 + 2 = 3_\n",
    "\n",
    "3   _→答案出現囉！但因為有除法的關係，python會自動變成小數點的數字，所以是3.0。_\n",
    "\n",
    "答對了嗎？"
   ]
  },
  {
   "cell_type": "code",
   "execution_count": 3,
   "metadata": {},
   "outputs": [
    {
     "name": "stdout",
     "output_type": "stream",
     "text": [
      "3.0\n"
     ]
    }
   ],
   "source": [
    "print(answer)"
   ]
  },
  {
   "cell_type": "markdown",
   "metadata": {},
   "source": [
    "### 小技巧\n",
    "\n",
    "要專業一點的話，當要寫 a = a + 1時，也可以寫成 a += 1。「+=」就是所謂的賦值符。"
   ]
  },
  {
   "cell_type": "code",
   "execution_count": 4,
   "metadata": {},
   "outputs": [
    {
     "name": "stdout",
     "output_type": "stream",
     "text": [
      "a += b ----- 10 += 2，所以 a = 12\n",
      "a -= b ----- 12 -= 2，所以 a = 10\n",
      "a *= b ----- 10 *= 2，所以 a = 20\n",
      "a /= b ----- 20 /= 2，所以 a = 10.0\n",
      "a ** b ----- 10 **= 2，所以 a = 100.0\n",
      "a =+ b ----- 100 //= 2，所以 a = 50.0\n",
      "a %= b ----- 50 %= 2，所以 a = 0.0\n"
     ]
    }
   ],
   "source": [
    "a = 10\n",
    "b = 2\n",
    "\n",
    "a += b \n",
    "print('a += b ----- 10 += 2，所以 a =',a)\n",
    "\n",
    "a -= b \n",
    "print('a -= b ----- 12 -= 2，所以 a =',a)\n",
    "\n",
    "a *= b \n",
    "print('a *= b ----- 10 *= 2，所以 a =',a)\n",
    "\n",
    "a /= b \n",
    "print('a /= b ----- 20 /= 2，所以 a =',a)\n",
    "\n",
    "a **= b \n",
    "print('a ** b ----- 10 **= 2，所以 a =',a)\n",
    "\n",
    "a //= b \n",
    "print('a =+ b ----- 100 //= 2，所以 a =',a)\n",
    "\n",
    "a %= b \n",
    "print('a %= b ----- 50 %= 2，所以 a =',a)"
   ]
  },
  {
   "cell_type": "markdown",
   "metadata": {},
   "source": [
    "## 第二部分：比較的運算\n",
    "\n",
    "如果有兩個東西需要比較看看誰大誰小的話，python也超會的。\n",
    "\n",
    "比較的符號有：\n",
    "\n",
    "* _>_  大於\n",
    "* _<_  小於\n",
    "* _==_ 等於 (注意兩個等於符號在一起_==_，才是數學上相等的意思，如果只有一個等於=，python會認為是變數的命名哦)\n",
    "* _>=_ 大於等於\n",
    "* _<=_ 小於等於\n",
    "* _<> 或 =!_ 不等於\n",
    "\n",
    "但是python的話不多，它只會告訴你 「是」 或 「否」 ( True 或 False )\n",
    "\n",
    "如何請python進行比較呢？\n"
   ]
  },
  {
   "cell_type": "code",
   "execution_count": 5,
   "metadata": {},
   "outputs": [
    {
     "name": "stdout",
     "output_type": "stream",
     "text": [
      "a > b 嗎？  True\n",
      "a < b 嗎？ False\n",
      "a == b 嗎？ False\n",
      "a >= b 嗎？ True\n",
      "a <= b 嗎？ False\n",
      "a != b 嗎？ True\n"
     ]
    }
   ],
   "source": [
    "a = 350\n",
    "b = 7\n",
    "print('a > b 嗎？ ', a > b)\n",
    "print('a < b 嗎？', a < b) \n",
    "print('a == b 嗎？', a == b)\n",
    "print('a >= b 嗎？', a >= b)\n",
    "print('a <= b 嗎？', a <= b)\n",
    "print('a != b 嗎？', a != b)\n"
   ]
  },
  {
   "cell_type": "markdown",
   "metadata": {},
   "source": [
    "### 小技巧\n",
    "如果遇到錯誤，不要慌！也不要氣餒，Python只是要告訴你它迷失了方向，請你再給明確一點的指示而已呦。"
   ]
  },
  {
   "cell_type": "code",
   "execution_count": 6,
   "metadata": {},
   "outputs": [
    {
     "ename": "TypeError",
     "evalue": "unsupported operand type(s) for +: 'int' and 'str'",
     "output_type": "error",
     "traceback": [
      "\u001b[0;31m---------------------------------------------------------------------------\u001b[0m",
      "\u001b[0;31mTypeError\u001b[0m                                 Traceback (most recent call last)",
      "\u001b[0;32m<ipython-input-6-b0751cb04c1f>\u001b[0m in \u001b[0;36m<module>\u001b[0;34m()\u001b[0m\n\u001b[1;32m      1\u001b[0m \u001b[0mnumber\u001b[0m \u001b[0;34m=\u001b[0m \u001b[0;36m100\u001b[0m\u001b[0;34m\u001b[0m\u001b[0m\n\u001b[1;32m      2\u001b[0m \u001b[0mtext_number\u001b[0m \u001b[0;34m=\u001b[0m \u001b[0;34m'68'\u001b[0m\u001b[0;34m\u001b[0m\u001b[0m\n\u001b[0;32m----> 3\u001b[0;31m \u001b[0mprint\u001b[0m\u001b[0;34m(\u001b[0m\u001b[0mnumber\u001b[0m \u001b[0;34m+\u001b[0m \u001b[0mtext_number\u001b[0m\u001b[0;34m)\u001b[0m\u001b[0;34m\u001b[0m\u001b[0m\n\u001b[0m",
      "\u001b[0;31mTypeError\u001b[0m: unsupported operand type(s) for +: 'int' and 'str'"
     ]
    }
   ],
   "source": [
    "number = 100\n",
    "text_number = '68'\n",
    "print(number + text_number)"
   ]
  },
  {
   "cell_type": "markdown",
   "metadata": {},
   "source": [
    "當python迷路時，它會停在原地無聲地哭XD，啊不是啦！它是在努力的告訴你它怎麼了。\n",
    "\n",
    "\n",
    "仔細看上面的錯誤訊息，python告訴你說，它在第三行那裡迷路了，而最下面的一行，就會告訴你是TypeError(型態有問題囉)，原來是不同的資料類型，int(整數)不能和str(字串)一起做運算。"
   ]
  },
  {
   "cell_type": "code",
   "execution_count": 7,
   "metadata": {},
   "outputs": [
    {
     "name": "stdout",
     "output_type": "stream",
     "text": [
      "number 的資料型態是 <class 'int'>\n",
      "text_number 的資料型態是 <class 'str'>\n"
     ]
    }
   ],
   "source": [
    "print('number 的資料型態是',type(number))\n",
    "print('text_number 的資料型態是' ,type(text_number))"
   ]
  },
  {
   "cell_type": "markdown",
   "metadata": {},
   "source": [
    "你可以用python的功能type()，來檢查這個變數，是什麼型態。\n",
    "\n",
    "還可以使用資料型態轉換的功能：\n",
    "* int()把資料轉換成整數\n",
    "* str()把資料轉換成字串"
   ]
  },
  {
   "cell_type": "code",
   "execution_count": 8,
   "metadata": {},
   "outputs": [
    {
     "name": "stdout",
     "output_type": "stream",
     "text": [
      "使用int(text_number)，所以 text_number 的資料型變成是  <class 'int'>\n",
      "使用str(back_to_str)，所以 back_to_str 的資料型態變成是  <class 'str'>\n"
     ]
    }
   ],
   "source": [
    "to_number = int(text_number)\n",
    "print('使用int(text_number)，所以 text_number 的資料型變成是 ',type(to_number))\n",
    "\n",
    "back_to_str = str(text_number)\n",
    "print('使用str(back_to_str)，所以 back_to_str 的資料型態變成是 ',type(back_to_str))"
   ]
  }
 ],
 "metadata": {
  "kernelspec": {
   "display_name": "Python 3",
   "language": "python",
   "name": "python3"
  },
  "language_info": {
   "codemirror_mode": {
    "name": "ipython",
    "version": 3
   },
   "file_extension": ".py",
   "mimetype": "text/x-python",
   "name": "python",
   "nbconvert_exporter": "python",
   "pygments_lexer": "ipython3",
   "version": "3.6.1"
  }
 },
 "nbformat": 4,
 "nbformat_minor": 2
}
