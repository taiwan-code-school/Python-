{
 "cells": [
  {
   "cell_type": "markdown",
   "metadata": {},
   "source": [
    "Python的功能運用 ：String、List、Tuple、Dictionary\n",
    "\n",
    "\n",
    "來源：Taiwan Code School 編輯：冠樺 時間：2018/09/03 版本：Python3\n",
    "\n",
    "\n",
    "在我們的生活中，會使用到許多不同種類的物品，每種物品都有它的功能和用途。像是鍋子是用來炒菜的，杯子是用來裝水的...等等\n",
    "\n",
    "在python的世界裡，每一項東西也可以視為一類「物品」，每種物品都有不同的屬性和功能。\n",
    "\n",
    "現在，就讓我們來了解各種不同的「類型」的物品，各有何種功能和用途吧。"
   ]
  },
  {
   "cell_type": "markdown",
   "metadata": {},
   "source": [
    "## String \"字串\"\n",
    "\n",
    "顧名思義，字串就是文字囉！\n",
    "\n",
    "但是更精確地說，\n",
    "\n",
    "只要是被 _雙引號 \"\" 或 單引號''_ 包起來的東西，(不管它包的是什麼)，Python都會認定它是 String(字串)哦。\n"
   ]
  },
  {
   "cell_type": "markdown",
   "metadata": {},
   "source": [
    "#### 字串的運算"
   ]
  },
  {
   "cell_type": "code",
   "execution_count": 1,
   "metadata": {},
   "outputs": [
    {
     "name": "stdout",
     "output_type": "stream",
     "text": [
      "Hi, Let's Play! \n",
      "Hi, Let's Play! Hi, Let's Play! Hi, Let's Play! \n"
     ]
    }
   ],
   "source": [
    "word_1 = \"Hi, \"\n",
    "word_2 = \"Let's Play! \"\n",
    "word_3 = word_1 + word_2\n",
    "print(word_3)\n",
    "print(word_3 * 3 )"
   ]
  },
  {
   "cell_type": "markdown",
   "metadata": {},
   "source": [
    "可以用+號來將文字串接在一起，或是用 _*_ 號將字串重複輸出。"
   ]
  },
  {
   "cell_type": "markdown",
   "metadata": {},
   "source": [
    "### 小技巧：\n",
    "\n",
    "所有在「#」後面的東西，都會被 Python 忽略。\n",
    "\n",
    "* 在程式碼內加上一些「註解」，幫助自己更容易讀懂內容，或是可以當作某些功能的輔助資訊，但是又不想要程式出現錯誤時，就可以使用囉。\n"
   ]
  },
  {
   "cell_type": "code",
   "execution_count": 2,
   "metadata": {},
   "outputs": [
    {
     "name": "stdout",
     "output_type": "stream",
     "text": [
      "35\n",
      "美金 35 元是台幣 1074.5 元\n"
     ]
    }
   ],
   "source": [
    "#計算匯率：將美金轉換成台幣\n",
    "USD = int(input())\n",
    "NTD = USD * 30.7\n",
    "print(\"美金\", USD ,\"元是台幣\",NTD,\"元\")"
   ]
  },
  {
   "cell_type": "markdown",
   "metadata": {},
   "source": [
    "當我們需要從使用者那裡拿取資訊時，就可以用input()讓使用者來輸入資訊。\n",
    "\n",
    "但是要注意，在input()中，無論使用者輸入什麼，python都會視為String(字串)。\n",
    "\n",
    "如果要拿來做數學運算的話，一定要用int()或float()來轉換成整數或浮點數(有小數點的數字)才可以。"
   ]
  },
  {
   "cell_type": "markdown",
   "metadata": {},
   "source": [
    "## List [列表]\n",
    "\n",
    "\n",
    "List是一堆資料排排隊，有位置的概念。\n",
    "\n",
    "我們可以把這一堆的資料，先暫時的蒐集起來，放在一個List裡面。\n",
    "\n",
    "它的用途是方便我們在程式的某個地方，來重複使用這些資料。\n",
    "\n",
    "* List用中括號 [ ] 來表示，在中括號裡面的一個或多個元素，就是list的內容。\n",
    "    * 可操作的方法有：提取、修改、增加、減少、排序、清除裡面的每個成員。\n"
   ]
  },
  {
   "cell_type": "code",
   "execution_count": 3,
   "metadata": {},
   "outputs": [
    {
     "name": "stdout",
     "output_type": "stream",
     "text": [
      "[]\n"
     ]
    }
   ],
   "source": [
    "MyList = []\n",
    "print(MyList)\n"
   ]
  },
  {
   "cell_type": "markdown",
   "metadata": {},
   "source": [
    "建立一個空的列表，放進變數MyList裡面。"
   ]
  },
  {
   "cell_type": "code",
   "execution_count": 4,
   "metadata": {},
   "outputs": [
    {
     "name": "stdout",
     "output_type": "stream",
     "text": [
      "[25, '你好', 3.94, [1, 2, 3], -40]\n"
     ]
    }
   ],
   "source": [
    "MyList = [25,\"你好\",3.94,[1,2,3],-40]\n",
    "print(MyList)"
   ]
  },
  {
   "cell_type": "markdown",
   "metadata": {},
   "source": [
    "List的內容，可以是任何資料型態，也可以是另一個List。\n",
    "\n",
    "而每個資料之間，就用一個逗點區隔開來。"
   ]
  },
  {
   "cell_type": "code",
   "execution_count": 5,
   "metadata": {},
   "outputs": [
    {
     "data": {
      "text/plain": [
       "25"
      ]
     },
     "execution_count": 5,
     "metadata": {},
     "output_type": "execute_result"
    }
   ],
   "source": [
    "MyList[0]"
   ]
  },
  {
   "cell_type": "markdown",
   "metadata": {},
   "source": [
    "List 裡面第 幾 個位置，叫做索引值(index)。\n",
    "\n",
    "我們可以利用索引值來查看內容。\n",
    "\n",
    "但是要注意，在python的世界裡，有關  位置  的都是從 0 開始算的。\n",
    "\n",
    "MyList[0] 就是從MyList中拿出第 0 個資料。"
   ]
  },
  {
   "cell_type": "markdown",
   "metadata": {},
   "source": [
    "### 提取List內容的某個部分 (切片)"
   ]
  },
  {
   "cell_type": "code",
   "execution_count": 6,
   "metadata": {},
   "outputs": [
    {
     "name": "stdout",
     "output_type": "stream",
     "text": [
      "[0:2] 就是把MyList中第0個～第2個資料(到第2個但不包含第2個)拿出來 → [25, '你好']\n",
      "[:2] 這樣也是一樣的結果(0可以省略)。 → [25, '你好']\n",
      "[3:] 就是把第3個～到最後一個資料拿出來。 → [[1, 2, 3], -40]\n",
      "用負號表示倒數第幾個，[-1]就是最後一個， → -40\n"
     ]
    }
   ],
   "source": [
    "print('[0:2] 就是把MyList中第0個～第2個資料(到第2個但不包含第2個)拿出來 →',MyList[0:2])\n",
    "print('[:2] 這樣也是一樣的結果(0可以省略)。 →',MyList[:2])\n",
    "print('[3:] 就是把第3個～到最後一個資料拿出來。 →',MyList[3:])\n",
    "print('用負號表示倒數第幾個，[-1]就是最後一個， →',MyList[-1])"
   ]
  },
  {
   "cell_type": "markdown",
   "metadata": {},
   "source": [
    "使用[:]中括號搭配冒號來將我們想要那部分切出來。"
   ]
  },
  {
   "cell_type": "markdown",
   "metadata": {},
   "source": [
    "### 編輯List內容"
   ]
  },
  {
   "cell_type": "code",
   "execution_count": 7,
   "metadata": {},
   "outputs": [
    {
     "name": "stdout",
     "output_type": "stream",
     "text": [
      "[25, '你好', 3.94, 12999, -40]\n"
     ]
    }
   ],
   "source": [
    "MyList[3] = 12999\n",
    "print(MyList)"
   ]
  },
  {
   "cell_type": "markdown",
   "metadata": {},
   "source": [
    "也可以使用List[索引]，用一個=等號來直接變更內容。"
   ]
  },
  {
   "cell_type": "markdown",
   "metadata": {},
   "source": [
    "### 加入List內容"
   ]
  },
  {
   "cell_type": "code",
   "execution_count": 8,
   "metadata": {},
   "outputs": [
    {
     "name": "stdout",
     "output_type": "stream",
     "text": [
      "[25, '你好', 3.94, 12999, -40, 2, 3, 4, 5, 6, 7]\n",
      "[[25, '你好', 3.94, 12999, -40], [2, 3, 4, 5, 6, 7]]\n"
     ]
    }
   ],
   "source": [
    "YourList = [2,3,4,5,6,7]\n",
    "\n",
    "Mix = MyList + YourList\n",
    "print(Mix)\n",
    "\n",
    "Mix = [MyList,YourList]\n",
    "print(Mix)"
   ]
  },
  {
   "cell_type": "markdown",
   "metadata": {
    "collapsed": true
   },
   "source": [
    "兩個列表也可以使用+號串接在一起。\n",
    "\n",
    "或是以個別的兩個列表，放入變數裡面。"
   ]
  },
  {
   "cell_type": "code",
   "execution_count": 9,
   "metadata": {},
   "outputs": [
    {
     "name": "stdout",
     "output_type": "stream",
     "text": [
      "用.append(1000)，在最後面加入內容\n",
      "[2, 3, 4, 5, 6, 7, 1000]\n"
     ]
    }
   ],
   "source": [
    "YourList.append(1000)\n",
    "print('用.append(1000)，在最後面加入內容')\n",
    "print(YourList)"
   ]
  },
  {
   "cell_type": "code",
   "execution_count": 10,
   "metadata": {},
   "outputs": [
    {
     "name": "stdout",
     "output_type": "stream",
     "text": [
      "在第2個位置插入'就放在這裡'\n",
      "[2, 3, '就放在這裡', 4, 5, 6, 7, 1000]\n"
     ]
    }
   ],
   "source": [
    "YourList.insert(2,'就放在這裡')\n",
    "print(\"在第2個位置插入'就放在這裡'\")\n",
    "print(YourList)"
   ]
  },
  {
   "cell_type": "code",
   "execution_count": 11,
   "metadata": {},
   "outputs": [
    {
     "name": "stdout",
     "output_type": "stream",
     "text": [
      "在最後面增加另一個列表的內容 \n",
      "[2, 3, '就放在這裡', 4, 5, 6, 7, 1000, 25, '你好', 3.94, 12999, -40]\n"
     ]
    }
   ],
   "source": [
    "YourList.extend(MyList)\n",
    "print('在最後面增加另一個列表的內容 ')\n",
    "print(YourList)"
   ]
  },
  {
   "cell_type": "markdown",
   "metadata": {},
   "source": [
    "### 刪除List內容"
   ]
  },
  {
   "cell_type": "code",
   "execution_count": 12,
   "metadata": {},
   "outputs": [
    {
     "name": "stdout",
     "output_type": "stream",
     "text": [
      "刪除索引值1的內容 \n",
      "[2, '就放在這裡', 4, 5, 6, 7, 1000, 25, '你好', 3.94, 12999, -40]\n"
     ]
    }
   ],
   "source": [
    "YourList.pop(1)\n",
    "print('刪除索引值1的內容 ')\n",
    "print(YourList)"
   ]
  },
  {
   "cell_type": "code",
   "execution_count": 13,
   "metadata": {},
   "outputs": [
    {
     "name": "stdout",
     "output_type": "stream",
     "text": [
      "刪除內容是'就放在這裡'\n",
      "[2, 4, 5, 6, 7, 1000, 25, '你好', 3.94, 12999, -40]\n"
     ]
    }
   ],
   "source": [
    "YourList.remove(\"就放在這裡\")\n",
    "print(\"刪除內容是'就放在這裡'\")\n",
    "print(YourList)"
   ]
  },
  {
   "cell_type": "code",
   "execution_count": 14,
   "metadata": {},
   "outputs": [
    {
     "name": "stdout",
     "output_type": "stream",
     "text": [
      "用.clear()，來清除列表中全部的元素\n",
      "[]\n"
     ]
    }
   ],
   "source": [
    "YourList.clear()\n",
    "print('用.clear()，來清除列表中全部的元素')\n",
    "print(YourList)"
   ]
  },
  {
   "cell_type": "code",
   "execution_count": 15,
   "metadata": {},
   "outputs": [
    {
     "name": "stdout",
     "output_type": "stream",
     "text": [
      "用del 列表名稱 來刪除整個列表 \n"
     ]
    },
    {
     "ename": "NameError",
     "evalue": "name 'YourList' is not defined",
     "output_type": "error",
     "traceback": [
      "\u001b[1;31m---------------------------------------------------------------------------\u001b[0m",
      "\u001b[1;31mNameError\u001b[0m                                 Traceback (most recent call last)",
      "\u001b[1;32m<ipython-input-15-c6acdbe86a1e>\u001b[0m in \u001b[0;36m<module>\u001b[1;34m()\u001b[0m\n\u001b[0;32m      1\u001b[0m \u001b[1;32mdel\u001b[0m \u001b[0mYourList\u001b[0m\u001b[1;33m\u001b[0m\u001b[0m\n\u001b[0;32m      2\u001b[0m \u001b[0mprint\u001b[0m\u001b[1;33m(\u001b[0m\u001b[1;34m'用del 列表名稱 來刪除整個列表 '\u001b[0m\u001b[1;33m)\u001b[0m\u001b[1;33m\u001b[0m\u001b[0m\n\u001b[1;32m----> 3\u001b[1;33m \u001b[0mprint\u001b[0m\u001b[1;33m(\u001b[0m\u001b[0mYourList\u001b[0m\u001b[1;33m)\u001b[0m\u001b[1;33m\u001b[0m\u001b[0m\n\u001b[0m",
      "\u001b[1;31mNameError\u001b[0m: name 'YourList' is not defined"
     ]
    }
   ],
   "source": [
    "del YourList\n",
    "print('用del 列表名稱 來刪除整個列表 ')\n",
    "print(YourList)"
   ]
  },
  {
   "cell_type": "markdown",
   "metadata": {},
   "source": [
    "因為列表的變數被刪除了，在print列表時，就出現錯誤！\n",
    "\n",
    "根據Python的提示，是一個NameError(名稱錯誤)，因為它找不到YourList這個變數名了。"
   ]
  },
  {
   "cell_type": "markdown",
   "metadata": {},
   "source": [
    "## Tuple (元組)    \n",
    "    \n",
    "* 代表Tuple的符號是小括號 ( )，在小括號裡面的一個或多個用逗號分開的成員，就是Tuple的內容。\n",
    "\n",
    "\n",
    "* Tuple是不可變的列表，內容一旦建立，就只能用索引值和切片來查看內容，所以不提供編輯的功能。\n",
    "\n",
    "* 用途是當程式內需要不可變更內容的一堆資料時，就派上用場了。"
   ]
  },
  {
   "cell_type": "code",
   "execution_count": 16,
   "metadata": {},
   "outputs": [
    {
     "name": "stdout",
     "output_type": "stream",
     "text": [
      "(1, 2, 3, 4, 5, 6, 7, 8, 9)\n"
     ]
    }
   ],
   "source": [
    "Tuple = (1,2,3,4,5,6,7,8,9)\n",
    "print(Tuple)"
   ]
  },
  {
   "cell_type": "code",
   "execution_count": 17,
   "metadata": {},
   "outputs": [
    {
     "name": "stdout",
     "output_type": "stream",
     "text": [
      "6\n",
      "(4, 5, 6)\n"
     ]
    }
   ],
   "source": [
    "print(Tuple[5])\n",
    "print(Tuple[3:6])"
   ]
  },
  {
   "cell_type": "markdown",
   "metadata": {
    "collapsed": true
   },
   "source": [
    "用[  ]索引值和切片來查看Tuple的內容。\n",
    "\n",
    "\n"
   ]
  },
  {
   "cell_type": "code",
   "execution_count": 18,
   "metadata": {},
   "outputs": [
    {
     "name": "stdout",
     "output_type": "stream",
     "text": [
      "<class 'tuple'>\n",
      "<class 'int'>\n"
     ]
    }
   ],
   "source": [
    "oneTuple = (20,)\n",
    "print(type(oneTuple))\n",
    "\n",
    "notTuple = (20)\n",
    "print(type(notTuple))"
   ]
  },
  {
   "cell_type": "markdown",
   "metadata": {},
   "source": [
    "另外值得注意的是，如果Tuple內只有一個元素，則需要多加一個逗點，python才會知道它是tuple。"
   ]
  },
  {
   "cell_type": "markdown",
   "metadata": {},
   "source": [
    "## Dictionary {字典}\n",
    "\n",
    "* Dictionary 是用一個大括號  { }  來表示，在大括號裡面的一個或多個元素，就是Dictionary的內容。\n",
    "\n",
    "\n",
    "字典的每一個位置，是由 一連串的 { 鍵key : 值value } 所組成，代表一種對應的關係，不同元素之間用逗號分開，「鍵」(key)的內容不可以重複也不能變更，「值」(value)就沒有限制。\n",
    "\n",
    "接下來，來看看字典的操作方式吧！"
   ]
  },
  {
   "cell_type": "code",
   "execution_count": 19,
   "metadata": {},
   "outputs": [
    {
     "name": "stdout",
     "output_type": "stream",
     "text": [
      "20\n"
     ]
    }
   ],
   "source": [
    "dict = {'age':20, 'Name':'John', 'Place':'Taiwan','sex':'Male'}\n",
    "print(dict['age'])"
   ]
  },
  {
   "cell_type": "markdown",
   "metadata": {},
   "source": [
    "建立一連串的鍵和值，放進dict這個變數裡面。\n",
    "想看某個 key 對應到哪一個 value 時，只要在字典名稱後面用中括號  [ ] 將 key 包起來，就可以得到它的value囉！"
   ]
  },
  {
   "cell_type": "code",
   "execution_count": 20,
   "metadata": {},
   "outputs": [
    {
     "name": "stdout",
     "output_type": "stream",
     "text": [
      "{'age': 20, 'Name': 'John', 'Place': 'England', 'sex': 'Male'}\n"
     ]
    }
   ],
   "source": [
    "dict['Place'] = 'England'\n",
    "print(dict)"
   ]
  },
  {
   "cell_type": "markdown",
   "metadata": {},
   "source": [
    "若要更改某個value，就直接用=等號指定給key，馬上就變更了value。"
   ]
  },
  {
   "cell_type": "code",
   "execution_count": 21,
   "metadata": {},
   "outputs": [
    {
     "name": "stdout",
     "output_type": "stream",
     "text": [
      "{'age': 20, 'Name': 'John', 'Place': 'England', 'sex': 'Male', 'Height': 175}\n"
     ]
    }
   ],
   "source": [
    "dict['Height']=175\n",
    "print(dict)"
   ]
  },
  {
   "cell_type": "markdown",
   "metadata": {},
   "source": [
    "如果指定的key，不存在時，python會自動幫我們增加這個鍵key進去字典裡。所以，想要新增一組key和value時，也可以用這個方法。"
   ]
  },
  {
   "cell_type": "code",
   "execution_count": 22,
   "metadata": {},
   "outputs": [
    {
     "name": "stdout",
     "output_type": "stream",
     "text": [
      "England\n",
      "不存在\n"
     ]
    }
   ],
   "source": [
    "print(dict.get('Place','不存在'))\n",
    "print(dict.get('ABCDEF',\"不存在\"))"
   ]
  },
  {
   "cell_type": "markdown",
   "metadata": {},
   "source": [
    "字典有一個不錯的功能，「dict.get()」。\n",
    "只要丟key給他，它就會給你value，更棒的是，如果這個key不在字典裡的話，它還讓我們可以指定要回應的訊息。"
   ]
  },
  {
   "cell_type": "code",
   "execution_count": 23,
   "metadata": {},
   "outputs": [
    {
     "name": "stdout",
     "output_type": "stream",
     "text": [
      "True\n",
      "False\n"
     ]
    }
   ],
   "source": [
    "print('age' in dict)\n",
    "print('John' in dict)"
   ]
  },
  {
   "cell_type": "markdown",
   "metadata": {},
   "source": [
    "最後，還有一件大家需知道的事情，\n",
    "\n",
    "請看上面範例，為什麼我們問python，'age'有沒有在dict裡時，python返回True(有)，但是問'John'的時候，python卻說False(沒有)呢？\n",
    "\n",
    "因為，\n",
    "\n",
    "當我們對字典進行查詢或運算時，python預設會循覽的只有key，如果要針對value的話，\n",
    "\n",
    "可以用下面方法來明確指定。"
   ]
  },
  {
   "cell_type": "code",
   "execution_count": 24,
   "metadata": {},
   "outputs": [
    {
     "name": "stdout",
     "output_type": "stream",
     "text": [
      "True\n",
      "True\n",
      "True\n"
     ]
    }
   ],
   "source": [
    "print(('age',20) in dict.items())\n",
    "print('age' in dict.keys())\n",
    "print('John' in dict.values())"
   ]
  },
  {
   "cell_type": "markdown",
   "metadata": {},
   "source": [
    "dict.items()可以查看所有的內容；  \n",
    "dict.keys()可以查看所有的key；  \n",
    "dict.values()可以查看所有的value；"
   ]
  },
  {
   "cell_type": "markdown",
   "metadata": {},
   "source": [
    "### 小技巧\n",
    "\n",
    "可以使用dir()來查看，各種類型的屬性和功能。\n"
   ]
  },
  {
   "cell_type": "code",
   "execution_count": 25,
   "metadata": {
    "scrolled": true
   },
   "outputs": [
    {
     "name": "stdout",
     "output_type": "stream",
     "text": [
      "['__class__', '__contains__', '__delattr__', '__delitem__', '__dir__', '__doc__', '__eq__', '__format__', '__ge__', '__getattribute__', '__getitem__', '__gt__', '__hash__', '__init__', '__init_subclass__', '__iter__', '__le__', '__len__', '__lt__', '__ne__', '__new__', '__reduce__', '__reduce_ex__', '__repr__', '__setattr__', '__setitem__', '__sizeof__', '__str__', '__subclasshook__', 'clear', 'copy', 'fromkeys', 'get', 'items', 'keys', 'pop', 'popitem', 'setdefault', 'update', 'values']\n"
     ]
    }
   ],
   "source": [
    "print(dir(dict))"
   ]
  },
  {
   "cell_type": "markdown",
   "metadata": {},
   "source": [
    "看到那麼多，莫急~莫慌~莫害怕 XD\n",
    "\n",
    "常用的功能就是後面的那幾個而已。"
   ]
  }
 ],
 "metadata": {
  "kernelspec": {
   "display_name": "Python 3",
   "language": "python",
   "name": "python3"
  },
  "language_info": {
   "codemirror_mode": {
    "name": "ipython",
    "version": 3
   },
   "file_extension": ".py",
   "mimetype": "text/x-python",
   "name": "python",
   "nbconvert_exporter": "python",
   "pygments_lexer": "ipython3",
   "version": "3.6.1"
  }
 },
 "nbformat": 4,
 "nbformat_minor": 2
}
