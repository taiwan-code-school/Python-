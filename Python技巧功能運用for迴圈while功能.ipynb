{
 "cells": [
  {
   "cell_type": "markdown",
   "metadata": {},
   "source": [
    "Python 技巧功能運用：for 迴圈、while 功能\n",
    "\n",
    "\n",
    "來源：Taiwan Code School 編輯：冠樺 時間：2018/09/04 版本：Python3\n",
    "\n",
    "\n",
    "寫程式最最最重要的就是， D R Y  (Don't Repeat Yourself)！\n",
    "\n",
    "而迴圈的想法就是，當我們必須重複做某一些事情的時候，就讓電腦來幫我們執行重複的地方。\n",
    "\n",
    "運用迴圈的好處實在太多了，話不多說，這就開始吧！"
   ]
  },
  {
   "cell_type": "markdown",
   "metadata": {},
   "source": [
    "#### 要請Python做重複的事情的時候，可以使用這兩個關鍵字咒語：\n",
    "\n",
    "* While\n",
    "* For \n",
    "\n",
    "\n",
    "和前章節提到的  if  判斷式一樣，在關鍵字和冒號中間，寫上條件，下一行要用縮排(空4格)代表咒語的內容。\n",
    "\n",
    "這兩種咒語有不同的功能，那我們要用哪一種呢？\n",
    "\n"
   ]
  },
  {
   "cell_type": "markdown",
   "metadata": {},
   "source": [
    "## while 是一種無限次數的循環。\n",
    "\n",
    "像一個大圓圈，圓圈的起點有一個紅綠燈。如果是綠燈，就繞一圈，如果回來還是綠燈，就再繞一圈，無限循環；如果是紅燈，就立刻跳出圈圈，不繞了。\n",
    "\n",
    "\n",
    "這裡的「紅綠燈」就是我們設定的「條件」，綠燈就是True，紅燈就是False。\n",
    "\n",
    "首先，「檢查條件」，若為真(Ture)，就開始做執行  while區塊(縮排)  裡的程式碼，當每一行程式碼都執行完時，「又會再回到while(圓圈起點)」，再次檢查條件是否為真(True)......無限循環。\n",
    "\n",
    "直到條件為False，就跳出while。\n"
   ]
  },
  {
   "cell_type": "code",
   "execution_count": 1,
   "metadata": {},
   "outputs": [
    {
     "name": "stdout",
     "output_type": "stream",
     "text": [
      "5\n",
      "4\n",
      "3\n",
      "2\n",
      "1\n",
      "0\n",
      "倒數結束\n"
     ]
    }
   ],
   "source": [
    "number = 5\n",
    "while number >= 0:\n",
    "    print(number)\n",
    "    number = number - 1\n",
    "print('倒數結束')\n",
    "    "
   ]
  },
  {
   "cell_type": "markdown",
   "metadata": {},
   "source": [
    "這個範例中，條件是「number >= 0」，\n",
    "\n",
    "也可以把條件想成是一個問題「number >= 0  嗎？」如果答案是YES，就會一直重複做while區塊裡的事情，\n",
    "\n",
    "區塊裡的事情是什麼呢？\n",
    "\n",
    "把number印出來，然後把number - 1，就這樣。\n",
    "\n",
    "思考一下！\n",
    "\n",
    "如果程式中沒有number = number - 1  這一行時，會怎麼樣呢？\n",
    "\n",
    "？\n",
    "？\n",
    "\n",
    "沒錯，答案是程式會永永遠遠的一直print出5，不會停下來，直到你的電腦壞掉或沒電之類的。"
   ]
  },
  {
   "cell_type": "markdown",
   "metadata": {},
   "source": [
    "### 小技巧\n",
    "\n",
    "在while中，最重要的事情就是「條件(問題)」的答案是否有「改變」，當問題的答案由True變成False的時候，才會跳出迴圈，停止重複。\n",
    "\n",
    "關鍵就在於，條件如何從成立變成不成立？如何讓綠燈變成紅燈？\n",
    "\n",
    "這和我們達成目標的方法有關。"
   ]
  },
  {
   "cell_type": "markdown",
   "metadata": {},
   "source": [
    "## 迴圈的大魔王：break\n",
    "\n",
    "如果在迴圈裡遇到break，它就會說：「你，現在，立刻滾出這個迴圈！」(凶巴巴的XD)\n",
    "\n",
    "\n",
    "break 可以讓你跳出圈圈，不管你已經跑在迴圈的哪個位置，它絕對會讓你「立刻跳出迴圈」，執行下一個程式區塊。"
   ]
  },
  {
   "cell_type": "code",
   "execution_count": 2,
   "metadata": {},
   "outputs": [
    {
     "name": "stdout",
     "output_type": "stream",
     "text": [
      "你好，我是python學人精  Hi\n",
      "Hi\n",
      "你好，我是python學人精  Hello\n",
      "Hello\n",
      "你好，我是python學人精  停\n",
      "好，停！\n"
     ]
    }
   ],
   "source": [
    "while True:\n",
    "    user = input('你好，我是python學人精  ')\n",
    "    if user == '停':\n",
    "        break\n",
    "    print(user)\n",
    "print('好，停！')\n",
    "    "
   ]
  },
  {
   "cell_type": "markdown",
   "metadata": {},
   "source": [
    "while True表示了它的條件永遠是True，但是後面搭配了break，所以只要程式執行到break，就會跳出迴圈。\n",
    "\n",
    "這個範例使用了input()和使用者互動，如果使用者輸入的內容是「停」，那程式就break。如果使用者輸入其他的內容，就會執行完while裡面所有的程式碼之後，再回到while開始的地方重複執行。\n"
   ]
  },
  {
   "cell_type": "markdown",
   "metadata": {},
   "source": [
    "## 迴圈的愛好者：continue\n",
    "\n",
    "如果在迴圈裡遇到continue，它就會說：「嗨！我們再玩一次迴圈吧！」\n",
    "\n",
    "continue 不會讓你跳出迴圈，它跟break魔王一樣都是打斷你繞圈圈，但是continue會再帶你「回到迴圈的起點」，繼續繞下一次的迴圈。"
   ]
  },
  {
   "cell_type": "code",
   "execution_count": 3,
   "metadata": {},
   "outputs": [
    {
     "name": "stdout",
     "output_type": "stream",
     "text": [
      "你好，我是python複誦機   Hello?\n",
      "Hello?\n",
      "你好，我是python複誦機   Hi\n",
      "Hi\n",
      "你好，我是python複誦機   Oh\n",
      "Oh\n",
      "你好，我是python複誦機   不要學了\n",
      "你好，我是python複誦機   Stop\n",
      "OK, I Stop.\n"
     ]
    }
   ],
   "source": [
    "while True:\n",
    "    user = input('你好，我是python複誦機   ')\n",
    "    if user == 'Stop':\n",
    "        break\n",
    "    if user == '不要學了':\n",
    "        continue\n",
    "    print(user)\n",
    "print(\"OK, I Stop.\")"
   ]
  },
  {
   "cell_type": "markdown",
   "metadata": {},
   "source": [
    "這個範例跟剛才的一樣，但又增加了一個if條件，如果使用者輸入的內容是「不要學了」，就會遇到continue，它就立刻帶你再回到迴圈最前面while的地方。"
   ]
  },
  {
   "cell_type": "markdown",
   "metadata": {},
   "source": [
    "## for 是一個有限的循環：\n",
    "\n",
    "for使用時機是在，很明確知道要做這個事情「幾次」的時候。\n",
    "\n",
    "「幾次」可以怎麼算呢？\n",
    "\n",
    "用不會變動的、可以數出來的東西來幫助我們，像是鉛筆盒裡全部的筆、鞋櫃裡全部的鞋子、字串中全部的字母、列表中全部的成員...\n",
    "\n",
    "可能很多，但是可以「明確算得出來」時，就使用For。\n",
    "\n",
    "\n",
    "\n",
    "老師說：「罰寫課文5遍！」 Q _ Q "
   ]
  },
  {
   "cell_type": "code",
   "execution_count": 4,
   "metadata": {},
   "outputs": [
    {
     "name": "stdout",
     "output_type": "stream",
     "text": [
      "第 1 遍罰寫課文\n",
      "第 2 遍罰寫課文\n",
      "第 3 遍罰寫課文\n",
      "第 4 遍罰寫課文\n",
      "第 5 遍罰寫課文\n"
     ]
    }
   ],
   "source": [
    "for i in [1,2,3,4,5]:\n",
    "    print('第',i, '遍罰寫課文')"
   ]
  },
  {
   "cell_type": "markdown",
   "metadata": {},
   "source": [
    "Python好乖！真的一遍也不少罰寫5遍 XD\n",
    "\n",
    "怎麼做到的呢？\n",
    "\n",
    "\n",
    "「for」 和 「in」 是python裡的關鍵字，在兩者之間，必須先建立一個迴圈變數，這裡命名為  i ，\n",
    "\n",
    "在 「in」 的後面接一個序列或範圍(可以是list、string、tuple或range)，意思就是，把這個序列裡的東西，一次一個的放進 i 裡面，直到序列裡所有都東西都放過一遍，迴圈就結束了。"
   ]
  },
  {
   "cell_type": "code",
   "execution_count": 5,
   "metadata": {},
   "outputs": [
    {
     "name": "stdout",
     "output_type": "stream",
     "text": [
      "Hi, Louie\n",
      "Hi, Bob\n",
      "Hi, George\n",
      "Hi, Yvonne\n"
     ]
    }
   ],
   "source": [
    "friends = ['Louie','Bob','George','Yvonne']\n",
    "for friend in friends:\n",
    "    print('Hi,',friend)"
   ]
  },
  {
   "cell_type": "markdown",
   "metadata": {},
   "source": [
    "列表中放入字串也可以。要注意這裡的迴圈變數，我們將它命名為「friend」，還記得變數就像是一個盒子嗎？\n",
    "\n",
    "for這個咒語，會把 friends 列表中的成員，一次一個的放進「friend」這個盒子中，然後才執行咒語的內容(區塊內的程式碼)。\n",
    "\n",
    "千萬不要與列表名稱  friends  搞混囉。"
   ]
  }
 ],
 "metadata": {
  "kernelspec": {
   "display_name": "Python 3",
   "language": "python",
   "name": "python3"
  },
  "language_info": {
   "codemirror_mode": {
    "name": "ipython",
    "version": 3
   },
   "file_extension": ".py",
   "mimetype": "text/x-python",
   "name": "python",
   "nbconvert_exporter": "python",
   "pygments_lexer": "ipython3",
   "version": "3.6.1"
  }
 },
 "nbformat": 4,
 "nbformat_minor": 2
}
